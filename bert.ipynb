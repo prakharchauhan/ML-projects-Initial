{
 "cells": [
  {
   "cell_type": "code",
   "execution_count": 2,
   "metadata": {},
   "outputs": [],
   "source": [
    "import tensorflow as tf\n",
    "import tensorflow_text as text\n",
    "import tensorflow_hub as hub"
   ]
  },
  {
   "cell_type": "code",
   "execution_count": 3,
   "metadata": {},
   "outputs": [],
   "source": [
    "prep_url = 'https://tfhub.dev/tensorflow/bert_en_uncased_preprocess/3'\n",
    "encoder_url = 'https://tfhub.dev/tensorflow/bert_en_uncased_L-12_H-768_A-12/4'\n",
    "\n",
    "bpm = hub.KerasLayer(prep_url)\n"
   ]
  },
  {
   "cell_type": "code",
   "execution_count": 4,
   "metadata": {},
   "outputs": [],
   "source": [
    "text_test = ['nice movie indeed','My personal BERT Model']\n",
    "text_p = bpm(text_test)"
   ]
  },
  {
   "cell_type": "code",
   "execution_count": 5,
   "metadata": {},
   "outputs": [],
   "source": [
    "bert = hub.KerasLayer(encoder_url)\n",
    "result = bert(text_p)"
   ]
  },
  {
   "cell_type": "code",
   "execution_count": 6,
   "metadata": {},
   "outputs": [
    {
     "data": {
      "text/plain": [
       "dict_keys(['pooled_output', 'sequence_output', 'default', 'encoder_outputs'])"
      ]
     },
     "execution_count": 6,
     "metadata": {},
     "output_type": "execute_result"
    }
   ],
   "source": [
    "result.keys()"
   ]
  },
  {
   "cell_type": "code",
   "execution_count": 9,
   "metadata": {},
   "outputs": [
    {
     "data": {
      "text/plain": [
       "<tf.Tensor: shape=(2, 128, 768), dtype=float32, numpy=\n",
       "array([[[ 0.07292053,  0.08567811,  0.14476846, ..., -0.09677067,\n",
       "          0.08722128,  0.07711104],\n",
       "        [ 0.1783935 , -0.19006078,  0.5034942 , ..., -0.05869839,\n",
       "          0.32717115, -0.15578555],\n",
       "        [ 0.18701448, -0.43388778, -0.48875168, ..., -0.15502736,\n",
       "          0.00145129, -0.2447096 ],\n",
       "        ...,\n",
       "        [ 0.12083042,  0.1288426 ,  0.4645356 , ...,  0.07375526,\n",
       "          0.17441978,  0.165221  ],\n",
       "        [ 0.07967852, -0.01190632,  0.50225437, ...,  0.13777742,\n",
       "          0.21002209,  0.00624598],\n",
       "        [-0.07212704, -0.28303427,  0.5903336 , ...,  0.47551903,\n",
       "          0.16668484, -0.08920316]],\n",
       "\n",
       "       [[-0.12463073,  0.13402092,  0.11796623, ..., -0.09418178,\n",
       "          0.07449766, -0.02473259],\n",
       "        [ 0.1729324 , -0.01078423,  0.02202267, ..., -0.16736026,\n",
       "          0.34623286,  0.59652567],\n",
       "        [ 0.28082782, -0.10131139,  0.34963763, ..., -0.6321486 ,\n",
       "         -0.38242963, -0.46863675],\n",
       "        ...,\n",
       "        [ 0.25610286, -0.10205956,  0.37607962, ...,  0.07446823,\n",
       "          0.04588163,  0.03313018],\n",
       "        [ 0.2513294 , -0.13952655,  0.33977365, ..., -0.00383229,\n",
       "          0.02480879,  0.03956601],\n",
       "        [ 0.33728096, -0.20799184,  0.31061596, ..., -0.04340453,\n",
       "          0.00929252, -0.05316559]]], dtype=float32)>"
      ]
     },
     "execution_count": 9,
     "metadata": {},
     "output_type": "execute_result"
    }
   ],
   "source": [
    "result['sequence_output']"
   ]
  },
  {
   "cell_type": "code",
   "execution_count": 8,
   "metadata": {},
   "outputs": [
    {
     "ename": "AttributeError",
     "evalue": "'dict' object has no attribute 'summary'",
     "output_type": "error",
     "traceback": [
      "\u001b[1;31m---------------------------------------------------------------------------\u001b[0m",
      "\u001b[1;31mAttributeError\u001b[0m                            Traceback (most recent call last)",
      "Cell \u001b[1;32mIn[8], line 1\u001b[0m\n\u001b[1;32m----> 1\u001b[0m result\u001b[39m.\u001b[39;49msummary()\n",
      "\u001b[1;31mAttributeError\u001b[0m: 'dict' object has no attribute 'summary'"
     ]
    }
   ],
   "source": []
  },
  {
   "cell_type": "code",
   "execution_count": null,
   "metadata": {},
   "outputs": [],
   "source": []
  }
 ],
 "metadata": {
  "kernelspec": {
   "display_name": "cudaproj",
   "language": "python",
   "name": "python3"
  },
  "language_info": {
   "codemirror_mode": {
    "name": "ipython",
    "version": 3
   },
   "file_extension": ".py",
   "mimetype": "text/x-python",
   "name": "python",
   "nbconvert_exporter": "python",
   "pygments_lexer": "ipython3",
   "version": "3.9.16"
  },
  "orig_nbformat": 4
 },
 "nbformat": 4,
 "nbformat_minor": 2
}
