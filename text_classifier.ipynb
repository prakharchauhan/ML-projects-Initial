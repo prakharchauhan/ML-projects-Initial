{
 "cells": [
  {
   "cell_type": "code",
   "execution_count": 2,
   "metadata": {},
   "outputs": [
    {
     "name": "stdout",
     "output_type": "stream",
     "text": [
      "Please check your installation\n"
     ]
    }
   ],
   "source": [
    "import tensorflow as tf\n",
    "import pandas as pd\n",
    "import tensorflow_hub as hub\n",
    "import tensorflow_text as text\n",
    "if tf.test.gpu_device_name():\n",
    "      print(f'Default GPU Device:{tf.test.gpu_device_name()}')  \n",
    "else:\n",
    "      print(\"Please check your installation\")"
   ]
  },
  {
   "cell_type": "code",
   "execution_count": 3,
   "metadata": {},
   "outputs": [
    {
     "data": {
      "text/html": [
       "<div>\n",
       "<style scoped>\n",
       "    .dataframe tbody tr th:only-of-type {\n",
       "        vertical-align: middle;\n",
       "    }\n",
       "\n",
       "    .dataframe tbody tr th {\n",
       "        vertical-align: top;\n",
       "    }\n",
       "\n",
       "    .dataframe thead th {\n",
       "        text-align: right;\n",
       "    }\n",
       "</style>\n",
       "<table border=\"1\" class=\"dataframe\">\n",
       "  <thead>\n",
       "    <tr style=\"text-align: right;\">\n",
       "      <th></th>\n",
       "      <th>email</th>\n",
       "      <th>label</th>\n",
       "    </tr>\n",
       "  </thead>\n",
       "  <tbody>\n",
       "    <tr>\n",
       "      <th>0</th>\n",
       "      <td>date wed NUMBER aug NUMBER NUMBER NUMBER NUMB...</td>\n",
       "      <td>0</td>\n",
       "    </tr>\n",
       "    <tr>\n",
       "      <th>1</th>\n",
       "      <td>martin a posted tassos papadopoulos the greek ...</td>\n",
       "      <td>0</td>\n",
       "    </tr>\n",
       "    <tr>\n",
       "      <th>2</th>\n",
       "      <td>man threatens explosion in moscow thursday aug...</td>\n",
       "      <td>0</td>\n",
       "    </tr>\n",
       "    <tr>\n",
       "      <th>3</th>\n",
       "      <td>klez the virus that won t die already the most...</td>\n",
       "      <td>0</td>\n",
       "    </tr>\n",
       "    <tr>\n",
       "      <th>4</th>\n",
       "      <td>in adding cream to spaghetti carbonara which ...</td>\n",
       "      <td>0</td>\n",
       "    </tr>\n",
       "    <tr>\n",
       "      <th>5</th>\n",
       "      <td>i just had to jump in here as carbonara is on...</td>\n",
       "      <td>0</td>\n",
       "    </tr>\n",
       "  </tbody>\n",
       "</table>\n",
       "</div>"
      ],
      "text/plain": [
       "                                               email  label\n",
       "0   date wed NUMBER aug NUMBER NUMBER NUMBER NUMB...      0\n",
       "1  martin a posted tassos papadopoulos the greek ...      0\n",
       "2  man threatens explosion in moscow thursday aug...      0\n",
       "3  klez the virus that won t die already the most...      0\n",
       "4   in adding cream to spaghetti carbonara which ...      0\n",
       "5   i just had to jump in here as carbonara is on...      0"
      ]
     },
     "execution_count": 3,
     "metadata": {},
     "output_type": "execute_result"
    }
   ],
   "source": [
    "df = pd.read_csv(\"spam_or_not_spam.csv\")\n",
    "df.head(6)"
   ]
  },
  {
   "cell_type": "code",
   "execution_count": 5,
   "metadata": {},
   "outputs": [
    {
     "data": {
      "text/html": [
       "<div>\n",
       "<style scoped>\n",
       "    .dataframe tbody tr th:only-of-type {\n",
       "        vertical-align: middle;\n",
       "    }\n",
       "\n",
       "    .dataframe tbody tr th {\n",
       "        vertical-align: top;\n",
       "    }\n",
       "\n",
       "    .dataframe thead tr th {\n",
       "        text-align: left;\n",
       "    }\n",
       "\n",
       "    .dataframe thead tr:last-of-type th {\n",
       "        text-align: right;\n",
       "    }\n",
       "</style>\n",
       "<table border=\"1\" class=\"dataframe\">\n",
       "  <thead>\n",
       "    <tr>\n",
       "      <th></th>\n",
       "      <th colspan=\"4\" halign=\"left\">email</th>\n",
       "    </tr>\n",
       "    <tr>\n",
       "      <th></th>\n",
       "      <th>count</th>\n",
       "      <th>unique</th>\n",
       "      <th>top</th>\n",
       "      <th>freq</th>\n",
       "    </tr>\n",
       "    <tr>\n",
       "      <th>label</th>\n",
       "      <th></th>\n",
       "      <th></th>\n",
       "      <th></th>\n",
       "      <th></th>\n",
       "    </tr>\n",
       "  </thead>\n",
       "  <tbody>\n",
       "    <tr>\n",
       "      <th>0</th>\n",
       "      <td>2500</td>\n",
       "      <td>2445</td>\n",
       "      <td>url URL date not supplied URL</td>\n",
       "      <td>10</td>\n",
       "    </tr>\n",
       "    <tr>\n",
       "      <th>1</th>\n",
       "      <td>499</td>\n",
       "      <td>427</td>\n",
       "      <td>lowest rates available for term life insurance...</td>\n",
       "      <td>5</td>\n",
       "    </tr>\n",
       "  </tbody>\n",
       "</table>\n",
       "</div>"
      ],
      "text/plain": [
       "      email                                                               \n",
       "      count unique                                                top freq\n",
       "label                                                                     \n",
       "0      2500   2445                     url URL date not supplied URL    10\n",
       "1       499    427  lowest rates available for term life insurance...    5"
      ]
     },
     "execution_count": 5,
     "metadata": {},
     "output_type": "execute_result"
    }
   ],
   "source": [
    "df.groupby('label').describe()"
   ]
  },
  {
   "cell_type": "code",
   "execution_count": 7,
   "metadata": {},
   "outputs": [
    {
     "data": {
      "text/plain": [
       "(500, 2)"
      ]
     },
     "execution_count": 7,
     "metadata": {},
     "output_type": "execute_result"
    }
   ],
   "source": [
    "df_spam = df[df['label']==1]\n",
    "df_spam.shape"
   ]
  },
  {
   "cell_type": "code",
   "execution_count": 8,
   "metadata": {},
   "outputs": [
    {
     "data": {
      "text/plain": [
       "(2500, 2)"
      ]
     },
     "execution_count": 8,
     "metadata": {},
     "output_type": "execute_result"
    }
   ],
   "source": [
    "df_ham = df[df['label']==0]\n",
    "df_ham.shape"
   ]
  },
  {
   "cell_type": "code",
   "execution_count": 9,
   "metadata": {},
   "outputs": [
    {
     "data": {
      "text/plain": [
       "(500, 2)"
      ]
     },
     "execution_count": 9,
     "metadata": {},
     "output_type": "execute_result"
    }
   ],
   "source": [
    "df_ds = df_ham.sample(df_spam.shape[0])\n",
    "df_ds.shape"
   ]
  },
  {
   "cell_type": "code",
   "execution_count": 10,
   "metadata": {},
   "outputs": [
    {
     "data": {
      "text/plain": [
       "(1000, 2)"
      ]
     },
     "execution_count": 10,
     "metadata": {},
     "output_type": "execute_result"
    }
   ],
   "source": [
    "df_new = pd.concat([df_ds,df_spam])\n",
    "df_new.shape"
   ]
  },
  {
   "cell_type": "code",
   "execution_count": 11,
   "metadata": {},
   "outputs": [
    {
     "data": {
      "text/plain": [
       "label\n",
       "0    500\n",
       "1    500\n",
       "Name: count, dtype: int64"
      ]
     },
     "execution_count": 11,
     "metadata": {},
     "output_type": "execute_result"
    }
   ],
   "source": [
    "df_new['label'].value_counts()"
   ]
  },
  {
   "cell_type": "code",
   "execution_count": 13,
   "metadata": {},
   "outputs": [],
   "source": [
    "from sklearn.model_selection import train_test_split\n",
    "x_train, x_test, y_train, y_test = train_test_split(df_new['email'], df_new['label'], stratify=df_new['label'])"
   ]
  },
  {
   "cell_type": "code",
   "execution_count": 15,
   "metadata": {},
   "outputs": [],
   "source": [
    "x_train.head(6)\n",
    "prep_url = 'https://tfhub.dev/tensorflow/bert_en_uncased_preprocess/3'\n",
    "encoder_url = 'https://tfhub.dev/tensorflow/bert_en_uncased_L-12_H-768_A-12/4'"
   ]
  },
  {
   "cell_type": "code",
   "execution_count": 16,
   "metadata": {},
   "outputs": [],
   "source": [
    "bert_pp = hub.KerasLayer(prep_url)\n",
    "bert_enc = hub.KerasLayer(encoder_url)"
   ]
  },
  {
   "cell_type": "code",
   "execution_count": 17,
   "metadata": {},
   "outputs": [],
   "source": [
    "def get_sen(sentence):\n",
    "    pp_text = bert_pp(sentence)\n",
    "    return bert_enc(pp_text)['pooled_output']\n",
    "e = get_sen([\"greece\", \"profit\", \"persia\",\"economics\"])"
   ]
  },
  {
   "cell_type": "code",
   "execution_count": 18,
   "metadata": {},
   "outputs": [
    {
     "data": {
      "text/plain": [
       "<tf.Tensor: shape=(4, 768), dtype=float32, numpy=\n",
       "array([[-0.93499964, -0.49616048, -0.562756  , ..., -0.28465608,\n",
       "        -0.67491376,  0.9201721 ],\n",
       "       [-0.906435  , -0.36100864, -0.21344265, ..., -0.03724111,\n",
       "        -0.65825623,  0.8938946 ],\n",
       "       [-0.65437466, -0.14296155,  0.74142486, ...,  0.5443639 ,\n",
       "        -0.48317453,  0.62695843],\n",
       "       [-0.94314086, -0.6446065 , -0.9248845 , ..., -0.8582408 ,\n",
       "        -0.72283983,  0.8971318 ]], dtype=float32)>"
      ]
     },
     "execution_count": 18,
     "metadata": {},
     "output_type": "execute_result"
    }
   ],
   "source": [
    "e"
   ]
  },
  {
   "cell_type": "code",
   "execution_count": 23,
   "metadata": {},
   "outputs": [
    {
     "data": {
      "text/plain": [
       "array([[0.9581166]], dtype=float32)"
      ]
     },
     "execution_count": 23,
     "metadata": {},
     "output_type": "execute_result"
    }
   ],
   "source": [
    "from sklearn.metrics.pairwise import cosine_similarity\n",
    "cosine_similarity([e[0]],[e[1]])"
   ]
  },
  {
   "cell_type": "code",
   "execution_count": 26,
   "metadata": {},
   "outputs": [
    {
     "name": "stdout",
     "output_type": "stream",
     "text": [
      "Model: \"model\"\n",
      "__________________________________________________________________________________________________\n",
      " Layer (type)                   Output Shape         Param #     Connected to                     \n",
      "==================================================================================================\n",
      " text (InputLayer)              [(None,)]            0           []                               \n",
      "                                                                                                  \n",
      " keras_layer (KerasLayer)       {'input_word_ids':   0           ['text[0][0]']                   \n",
      "                                (None, 128),                                                      \n",
      "                                 'input_mask': (Non                                               \n",
      "                                e, 128),                                                          \n",
      "                                 'input_type_ids':                                                \n",
      "                                (None, 128)}                                                      \n",
      "                                                                                                  \n",
      " keras_layer_1 (KerasLayer)     {'sequence_output':  109482241   ['keras_layer[2][0]',            \n",
      "                                 (None, 128, 768),                'keras_layer[2][1]',            \n",
      "                                 'pooled_output': (               'keras_layer[2][2]']            \n",
      "                                None, 768),                                                       \n",
      "                                 'encoder_outputs':                                               \n",
      "                                 [(None, 128, 768),                                               \n",
      "                                 (None, 128, 768),                                                \n",
      "                                 (None, 128, 768),                                                \n",
      "                                 (None, 128, 768),                                                \n",
      "                                 (None, 128, 768),                                                \n",
      "                                 (None, 128, 768),                                                \n",
      "                                 (None, 128, 768),                                                \n",
      "                                 (None, 128, 768),                                                \n",
      "                                 (None, 128, 768),                                                \n",
      "                                 (None, 128, 768),                                                \n",
      "                                 (None, 128, 768),                                                \n",
      "                                 (None, 128, 768)],                                               \n",
      "                                 'default': (None,                                                \n",
      "                                768)}                                                             \n",
      "                                                                                                  \n",
      " dropout (Dropout)              (None, 768)          0           ['keras_layer_1[2][13]']         \n",
      "                                                                                                  \n",
      " output (Dense)                 (None, 1)            769         ['dropout[0][0]']                \n",
      "                                                                                                  \n",
      "==================================================================================================\n",
      "Total params: 109,483,010\n",
      "Trainable params: 769\n",
      "Non-trainable params: 109,482,241\n",
      "__________________________________________________________________________________________________\n"
     ]
    }
   ],
   "source": [
    "text_input = tf.keras.layers.Input(shape=(), dtype=tf.string, name=\"text\")\n",
    "pp_text = bert_pp(text_input)\n",
    "output = bert_enc(pp_text)\n",
    "\n",
    "l = tf.keras.layers.Dropout(0.1, name = 'dropout')(output['pooled_output'])\n",
    "l1 = tf.keras.layers.Dense(1, activation='sigmoid', name = 'output')(l)\n",
    "\n",
    "mod = tf.keras.Model(inputs=[text_input], outputs=[l1])\n",
    "\n",
    "mod.summary()\n"
   ]
  },
  {
   "cell_type": "code",
   "execution_count": 30,
   "metadata": {},
   "outputs": [],
   "source": [
    "METRICS = [\n",
    "    tf.keras.metrics.BinaryAccuracy(name = 'accuracy'),\n",
    "    tf.keras.metrics.Precision(name = 'precision'),\n",
    "    tf.keras.metrics.Recall(name = 'recall')\n",
    "]\n",
    "mod.compile(optimizer = 'adam', loss = 'binary_crossentropy', metrics=METRICS)\n"
   ]
  },
  {
   "cell_type": "code",
   "execution_count": 32,
   "metadata": {},
   "outputs": [
    {
     "name": "stdout",
     "output_type": "stream",
     "text": [
      "WARNING:tensorflow:Keras is training/fitting/evaluating on array-like data. Keras may not be optimized for this format, so if your input data format is supported by TensorFlow I/O (https://github.com/tensorflow/io) we recommend using that to load a Dataset instead.\n"
     ]
    },
    {
     "name": "stderr",
     "output_type": "stream",
     "text": [
      "WARNING:tensorflow:Keras is training/fitting/evaluating on array-like data. Keras may not be optimized for this format, so if your input data format is supported by TensorFlow I/O (https://github.com/tensorflow/io) we recommend using that to load a Dataset instead.\n"
     ]
    },
    {
     "name": "stdout",
     "output_type": "stream",
     "text": [
      "Epoch 1/3\n"
     ]
    },
    {
     "ename": "UnknownError",
     "evalue": "Graph execution error:\n\nKeyError: '[51, 117, 237, 552, 648, 370, 256, 639, 151, 620, 457, 720, 466, 630, 43, 297, 488, 169, 724, 224, 386, 67, 405, 397] not in index'\nTraceback (most recent call last):\n\n  File \"c:\\Users\\DELL\\anaconda3\\envs\\cudaproj\\lib\\site-packages\\tensorflow\\python\\ops\\script_ops.py\", line 269, in __call__\n    return func(device, token, args)\n\n  File \"c:\\Users\\DELL\\anaconda3\\envs\\cudaproj\\lib\\site-packages\\tensorflow\\python\\ops\\script_ops.py\", line 147, in __call__\n    outputs = self._call(device, args)\n\n  File \"c:\\Users\\DELL\\anaconda3\\envs\\cudaproj\\lib\\site-packages\\tensorflow\\python\\ops\\script_ops.py\", line 154, in _call\n    ret = self._func(*args)\n\n  File \"c:\\Users\\DELL\\anaconda3\\envs\\cudaproj\\lib\\site-packages\\tensorflow\\python\\autograph\\impl\\api.py\", line 642, in wrapper\n    return func(*args, **kwargs)\n\n  File \"c:\\Users\\DELL\\anaconda3\\envs\\cudaproj\\lib\\site-packages\\keras\\engine\\data_adapter.py\", line 513, in py_method\n    return [slice_array(inp) for inp in flat_inputs]\n\n  File \"c:\\Users\\DELL\\anaconda3\\envs\\cudaproj\\lib\\site-packages\\keras\\engine\\data_adapter.py\", line 513, in <listcomp>\n    return [slice_array(inp) for inp in flat_inputs]\n\n  File \"c:\\Users\\DELL\\anaconda3\\envs\\cudaproj\\lib\\site-packages\\keras\\engine\\data_adapter.py\", line 509, in slice_array\n    return training_utils.slice_arrays(\n\n  File \"c:\\Users\\DELL\\anaconda3\\envs\\cudaproj\\lib\\site-packages\\keras\\engine\\training_utils.py\", line 52, in slice_arrays\n    slices = generic_utils.slice_arrays(arrays, indices)\n\n  File \"c:\\Users\\DELL\\anaconda3\\envs\\cudaproj\\lib\\site-packages\\keras\\utils\\generic_utils.py\", line 1199, in slice_arrays\n    return [None if x is None else x[start] for x in arrays]\n\n  File \"c:\\Users\\DELL\\anaconda3\\envs\\cudaproj\\lib\\site-packages\\keras\\utils\\generic_utils.py\", line 1199, in <listcomp>\n    return [None if x is None else x[start] for x in arrays]\n\n  File \"c:\\Users\\DELL\\anaconda3\\envs\\cudaproj\\lib\\site-packages\\pandas\\core\\series.py\", line 1072, in __getitem__\n    return self._get_with(key)\n\n  File \"c:\\Users\\DELL\\anaconda3\\envs\\cudaproj\\lib\\site-packages\\pandas\\core\\series.py\", line 1099, in _get_with\n    return self.loc[key]\n\n  File \"c:\\Users\\DELL\\anaconda3\\envs\\cudaproj\\lib\\site-packages\\pandas\\core\\indexing.py\", line 1153, in __getitem__\n    return self._getitem_axis(maybe_callable, axis=axis)\n\n  File \"c:\\Users\\DELL\\anaconda3\\envs\\cudaproj\\lib\\site-packages\\pandas\\core\\indexing.py\", line 1382, in _getitem_axis\n    return self._getitem_iterable(key, axis=axis)\n\n  File \"c:\\Users\\DELL\\anaconda3\\envs\\cudaproj\\lib\\site-packages\\pandas\\core\\indexing.py\", line 1322, in _getitem_iterable\n    keyarr, indexer = self._get_listlike_indexer(key, axis)\n\n  File \"c:\\Users\\DELL\\anaconda3\\envs\\cudaproj\\lib\\site-packages\\pandas\\core\\indexing.py\", line 1520, in _get_listlike_indexer\n    keyarr, indexer = ax._get_indexer_strict(key, axis_name)\n\n  File \"c:\\Users\\DELL\\anaconda3\\envs\\cudaproj\\lib\\site-packages\\pandas\\core\\indexes\\base.py\", line 6114, in _get_indexer_strict\n    self._raise_if_missing(keyarr, indexer, axis_name)\n\n  File \"c:\\Users\\DELL\\anaconda3\\envs\\cudaproj\\lib\\site-packages\\pandas\\core\\indexes\\base.py\", line 6178, in _raise_if_missing\n    raise KeyError(f\"{not_found} not in index\")\n\nKeyError: '[51, 117, 237, 552, 648, 370, 256, 639, 151, 620, 457, 720, 466, 630, 43, 297, 488, 169, 724, 224, 386, 67, 405, 397] not in index'\n\n\n\t [[{{node EagerPyFunc}}]]\n\t [[IteratorGetNext]] [Op:__inference_train_function_71124]",
     "output_type": "error",
     "traceback": [
      "\u001b[1;31m---------------------------------------------------------------------------\u001b[0m",
      "\u001b[1;31mUnknownError\u001b[0m                              Traceback (most recent call last)",
      "Cell \u001b[1;32mIn[32], line 1\u001b[0m\n\u001b[1;32m----> 1\u001b[0m mod\u001b[39m.\u001b[39;49mfit(x_train, y_train, epochs\u001b[39m=\u001b[39;49m\u001b[39m3\u001b[39;49m)\n",
      "File \u001b[1;32mc:\\Users\\DELL\\anaconda3\\envs\\cudaproj\\lib\\site-packages\\keras\\utils\\traceback_utils.py:70\u001b[0m, in \u001b[0;36mfilter_traceback.<locals>.error_handler\u001b[1;34m(*args, **kwargs)\u001b[0m\n\u001b[0;32m     67\u001b[0m     filtered_tb \u001b[39m=\u001b[39m _process_traceback_frames(e\u001b[39m.\u001b[39m__traceback__)\n\u001b[0;32m     68\u001b[0m     \u001b[39m# To get the full stack trace, call:\u001b[39;00m\n\u001b[0;32m     69\u001b[0m     \u001b[39m# `tf.debugging.disable_traceback_filtering()`\u001b[39;00m\n\u001b[1;32m---> 70\u001b[0m     \u001b[39mraise\u001b[39;00m e\u001b[39m.\u001b[39mwith_traceback(filtered_tb) \u001b[39mfrom\u001b[39;00m \u001b[39mNone\u001b[39;00m\n\u001b[0;32m     71\u001b[0m \u001b[39mfinally\u001b[39;00m:\n\u001b[0;32m     72\u001b[0m     \u001b[39mdel\u001b[39;00m filtered_tb\n",
      "File \u001b[1;32mc:\\Users\\DELL\\anaconda3\\envs\\cudaproj\\lib\\site-packages\\tensorflow\\python\\eager\\execute.py:54\u001b[0m, in \u001b[0;36mquick_execute\u001b[1;34m(op_name, num_outputs, inputs, attrs, ctx, name)\u001b[0m\n\u001b[0;32m     52\u001b[0m \u001b[39mtry\u001b[39;00m:\n\u001b[0;32m     53\u001b[0m   ctx\u001b[39m.\u001b[39mensure_initialized()\n\u001b[1;32m---> 54\u001b[0m   tensors \u001b[39m=\u001b[39m pywrap_tfe\u001b[39m.\u001b[39mTFE_Py_Execute(ctx\u001b[39m.\u001b[39m_handle, device_name, op_name,\n\u001b[0;32m     55\u001b[0m                                       inputs, attrs, num_outputs)\n\u001b[0;32m     56\u001b[0m \u001b[39mexcept\u001b[39;00m core\u001b[39m.\u001b[39m_NotOkStatusException \u001b[39mas\u001b[39;00m e:\n\u001b[0;32m     57\u001b[0m   \u001b[39mif\u001b[39;00m name \u001b[39mis\u001b[39;00m \u001b[39mnot\u001b[39;00m \u001b[39mNone\u001b[39;00m:\n",
      "\u001b[1;31mUnknownError\u001b[0m: Graph execution error:\n\nKeyError: '[51, 117, 237, 552, 648, 370, 256, 639, 151, 620, 457, 720, 466, 630, 43, 297, 488, 169, 724, 224, 386, 67, 405, 397] not in index'\nTraceback (most recent call last):\n\n  File \"c:\\Users\\DELL\\anaconda3\\envs\\cudaproj\\lib\\site-packages\\tensorflow\\python\\ops\\script_ops.py\", line 269, in __call__\n    return func(device, token, args)\n\n  File \"c:\\Users\\DELL\\anaconda3\\envs\\cudaproj\\lib\\site-packages\\tensorflow\\python\\ops\\script_ops.py\", line 147, in __call__\n    outputs = self._call(device, args)\n\n  File \"c:\\Users\\DELL\\anaconda3\\envs\\cudaproj\\lib\\site-packages\\tensorflow\\python\\ops\\script_ops.py\", line 154, in _call\n    ret = self._func(*args)\n\n  File \"c:\\Users\\DELL\\anaconda3\\envs\\cudaproj\\lib\\site-packages\\tensorflow\\python\\autograph\\impl\\api.py\", line 642, in wrapper\n    return func(*args, **kwargs)\n\n  File \"c:\\Users\\DELL\\anaconda3\\envs\\cudaproj\\lib\\site-packages\\keras\\engine\\data_adapter.py\", line 513, in py_method\n    return [slice_array(inp) for inp in flat_inputs]\n\n  File \"c:\\Users\\DELL\\anaconda3\\envs\\cudaproj\\lib\\site-packages\\keras\\engine\\data_adapter.py\", line 513, in <listcomp>\n    return [slice_array(inp) for inp in flat_inputs]\n\n  File \"c:\\Users\\DELL\\anaconda3\\envs\\cudaproj\\lib\\site-packages\\keras\\engine\\data_adapter.py\", line 509, in slice_array\n    return training_utils.slice_arrays(\n\n  File \"c:\\Users\\DELL\\anaconda3\\envs\\cudaproj\\lib\\site-packages\\keras\\engine\\training_utils.py\", line 52, in slice_arrays\n    slices = generic_utils.slice_arrays(arrays, indices)\n\n  File \"c:\\Users\\DELL\\anaconda3\\envs\\cudaproj\\lib\\site-packages\\keras\\utils\\generic_utils.py\", line 1199, in slice_arrays\n    return [None if x is None else x[start] for x in arrays]\n\n  File \"c:\\Users\\DELL\\anaconda3\\envs\\cudaproj\\lib\\site-packages\\keras\\utils\\generic_utils.py\", line 1199, in <listcomp>\n    return [None if x is None else x[start] for x in arrays]\n\n  File \"c:\\Users\\DELL\\anaconda3\\envs\\cudaproj\\lib\\site-packages\\pandas\\core\\series.py\", line 1072, in __getitem__\n    return self._get_with(key)\n\n  File \"c:\\Users\\DELL\\anaconda3\\envs\\cudaproj\\lib\\site-packages\\pandas\\core\\series.py\", line 1099, in _get_with\n    return self.loc[key]\n\n  File \"c:\\Users\\DELL\\anaconda3\\envs\\cudaproj\\lib\\site-packages\\pandas\\core\\indexing.py\", line 1153, in __getitem__\n    return self._getitem_axis(maybe_callable, axis=axis)\n\n  File \"c:\\Users\\DELL\\anaconda3\\envs\\cudaproj\\lib\\site-packages\\pandas\\core\\indexing.py\", line 1382, in _getitem_axis\n    return self._getitem_iterable(key, axis=axis)\n\n  File \"c:\\Users\\DELL\\anaconda3\\envs\\cudaproj\\lib\\site-packages\\pandas\\core\\indexing.py\", line 1322, in _getitem_iterable\n    keyarr, indexer = self._get_listlike_indexer(key, axis)\n\n  File \"c:\\Users\\DELL\\anaconda3\\envs\\cudaproj\\lib\\site-packages\\pandas\\core\\indexing.py\", line 1520, in _get_listlike_indexer\n    keyarr, indexer = ax._get_indexer_strict(key, axis_name)\n\n  File \"c:\\Users\\DELL\\anaconda3\\envs\\cudaproj\\lib\\site-packages\\pandas\\core\\indexes\\base.py\", line 6114, in _get_indexer_strict\n    self._raise_if_missing(keyarr, indexer, axis_name)\n\n  File \"c:\\Users\\DELL\\anaconda3\\envs\\cudaproj\\lib\\site-packages\\pandas\\core\\indexes\\base.py\", line 6178, in _raise_if_missing\n    raise KeyError(f\"{not_found} not in index\")\n\nKeyError: '[51, 117, 237, 552, 648, 370, 256, 639, 151, 620, 457, 720, 466, 630, 43, 297, 488, 169, 724, 224, 386, 67, 405, 397] not in index'\n\n\n\t [[{{node EagerPyFunc}}]]\n\t [[IteratorGetNext]] [Op:__inference_train_function_71124]"
     ]
    }
   ],
   "source": [
    "mod.fit(x_train, y_train, epochs=3)"
   ]
  },
  {
   "cell_type": "code",
   "execution_count": null,
   "metadata": {},
   "outputs": [],
   "source": []
  }
 ],
 "metadata": {
  "kernelspec": {
   "display_name": "cudaproj",
   "language": "python",
   "name": "python3"
  },
  "language_info": {
   "codemirror_mode": {
    "name": "ipython",
    "version": 3
   },
   "file_extension": ".py",
   "mimetype": "text/x-python",
   "name": "python",
   "nbconvert_exporter": "python",
   "pygments_lexer": "ipython3",
   "version": "3.9.16"
  },
  "orig_nbformat": 4
 },
 "nbformat": 4,
 "nbformat_minor": 2
}
